{
 "cells": [
  {
   "cell_type": "markdown",
   "metadata": {},
   "source": [
    "### Student Number : 2\n",
    "#### Alexandre Lemonnier (alexandre.lemonnier) (23077)\n",
    "#### Victor Simonin (victor.simonin) (23093)"
   ]
  },
  {
   "cell_type": "markdown",
   "metadata": {},
   "source": [
    "First, let's import our useful libraries"
   ]
  },
  {
   "cell_type": "code",
   "execution_count": 14,
   "metadata": {},
   "outputs": [],
   "source": [
    "from pyspark.sql import SparkSession\n",
    "from pyspark.sql.functions import *\n",
    "from pyspark.sql.window import Window\n",
    "from datetime import timedelta, datetime\n",
    "from pyspark.ml.stat import Correlation\n",
    "from sklearn.preprocessing import normalize\n",
    "from pyspark.ml.feature import VectorAssembler\n",
    "from pyspark.sql.types import *\n",
    "from pyspark.sql import *\n",
    "from pyspark.ml import Pipeline\n",
    "from pyspark.ml.feature import RFormula\n",
    "from pyspark.ml.regression import LinearRegression\n",
    "from pyspark.ml.evaluation import RegressionEvaluator\n",
    "from functools import reduce\n",
    "import matplotlib.pyplot as plt\n",
    "import matplotlib as mpl\n",
    "import pandas as pd\n",
    "import numpy as np"
   ]
  },
  {
   "cell_type": "code",
   "execution_count": 3,
   "metadata": {},
   "outputs": [
    {
     "name": "stderr",
     "output_type": "stream",
     "text": [
      "22/06/15 00:10:51 WARN Utils: Your hostname, leme-thinkpad resolves to a loopback address: 127.0.1.1; using 192.168.0.178 instead (on interface wlp4s0)\n",
      "22/06/15 00:10:51 WARN Utils: Set SPARK_LOCAL_IP if you need to bind to another address\n",
      "WARNING: An illegal reflective access operation has occurred\n",
      "WARNING: Illegal reflective access by org.apache.spark.unsafe.Platform (file:/opt/apache-spark/jars/spark-unsafe_2.12-3.2.0.jar) to constructor java.nio.DirectByteBuffer(long,int)\n",
      "WARNING: Please consider reporting this to the maintainers of org.apache.spark.unsafe.Platform\n",
      "WARNING: Use --illegal-access=warn to enable warnings of further illegal reflective access operations\n",
      "WARNING: All illegal access operations will be denied in a future release\n",
      "Using Spark's default log4j profile: org/apache/spark/log4j-defaults.properties\n",
      "Setting default log level to \"WARN\".\n",
      "To adjust logging level use sc.setLogLevel(newLevel). For SparkR, use setLogLevel(newLevel).\n",
      "22/06/15 00:10:55 WARN NativeCodeLoader: Unable to load native-hadoop library for your platform... using builtin-java classes where applicable\n"
     ]
    }
   ],
   "source": [
    "spark_application_name = \"Projet_LAVS\"\n",
    "spark = (SparkSession.builder.appName(spark_application_name).getOrCreate())"
   ]
  },
  {
   "cell_type": "markdown",
   "metadata": {},
   "source": [
    "Here we define the structure of the schema and its columns with their relative types"
   ]
  },
  {
   "cell_type": "code",
   "execution_count": 17,
   "metadata": {},
   "outputs": [],
   "source": [
    "columns = [StructField(\"Date\",TimestampType()), StructField(\"High\",FloatType()), StructField(\"Low\",FloatType()), StructField(\"Open\",FloatType()), StructField(\"Close\",FloatType()), StructField(\"Volume\",FloatType()), StructField(\"Adj_Close\",FloatType()), StructField(\"company_name\",StringType())]\n",
    "schema = StructType(columns)\n",
    "\n",
    "def read_data(path):\n",
    "    return spark.read.schema(schema).csv(path, header=True, sep=',')"
   ]
  },
  {
   "cell_type": "markdown",
   "metadata": {},
   "source": [
    "Now let's read all the stocks' data :"
   ]
  },
  {
   "cell_type": "code",
   "execution_count": 18,
   "metadata": {},
   "outputs": [],
   "source": [
    "amazon = 'data/AMAZON.csv'\n",
    "apple = 'data/APPLE.csv'\n",
    "facebook = 'data/FACEBOOK.csv'\n",
    "google = 'data/GOOGLE.csv'\n",
    "microsoft = 'data/MICROSOFT.csv'\n",
    "tesla = 'data/TESLA.csv'\n",
    "zoom = 'data/ZOOM.csv'"
   ]
  },
  {
   "cell_type": "code",
   "execution_count": 64,
   "metadata": {},
   "outputs": [],
   "source": [
    "def predict_stock(stock_path):\n",
    "    df_stock = read_data(stock_path).select('Date', 'Close', 'Volume')\n",
    "    print(\"Stock columns:\", df_stock.columns)\n",
    "    print(\"Dataframe count:\", df_stock.count())\n",
    "    df_stock = df_stock.withColumn(\"row_id\", monotonically_increasing_id())\n",
    "    trainDF, testDF = df_stock.randomSplit([.8, .2], seed=42)\n",
    "    \n",
    "    logTrainDF = trainDF.withColumn(\"log_Close\", log(col(\"Close\")))\n",
    "    logTestDF = testDF.withColumn(\"log_Close\", log(col(\"Close\")))\n",
    "    \n",
    "    print(f\"There are {trainDF.cache().count()} rows in the training set, and {testDF.cache().count()} in the test set\")\n",
    "    \n",
    "    rFormula = RFormula(formula=\"log_Close ~ . - Volume\", featuresCol=\"features\", labelCol=\"log_Close\", handleInvalid=\"skip\") \n",
    "\n",
    "    lr = LinearRegression(labelCol=\"log_Close\", predictionCol=\"log_pred\")\n",
    "\n",
    "    pipeline = Pipeline(stages = [rFormula, lr])\n",
    "    pipelineModel = pipeline.fit(logTrainDF)\n",
    "    predDF = pipelineModel.transform(logTestDF)\n",
    "    expDF = predDF.withColumn(\"prediction\", exp(col(\"log_pred\")))\n",
    "    display(expDF.show())\n",
    "    \n",
    "    regressionEvaluator = RegressionEvaluator(labelCol=\"Close\", predictionCol=\"prediction\")\n",
    "    rmse = regressionEvaluator.setMetricName(\"rmse\").evaluate(expDF)\n",
    "    r2 = regressionEvaluator.setMetricName(\"r2\").evaluate(expDF)\n",
    "    print(f\"RMSE is {rmse}\")\n",
    "    print(f\"R2 is {r2}\")\n"
   ]
  },
  {
   "cell_type": "code",
   "execution_count": 65,
   "metadata": {},
   "outputs": [
    {
     "name": "stdout",
     "output_type": "stream",
     "text": [
      "Stock columns: ['Date', 'Close', 'Volume']\n",
      "Dataframe count: 987\n"
     ]
    },
    {
     "name": "stderr",
     "output_type": "stream",
     "text": [
      "22/06/15 00:49:15 WARN CacheManager: Asked to cache already cached data.\n",
      "22/06/15 00:49:16 WARN CacheManager: Asked to cache already cached data.\n"
     ]
    },
    {
     "name": "stdout",
     "output_type": "stream",
     "text": [
      "There are 828 rows in the training set, and 159 in the test set\n"
     ]
    },
    {
     "name": "stderr",
     "output_type": "stream",
     "text": [
      "22/06/15 00:49:16 WARN Instrumentation: [f63eaffd] regParam is zero, which might cause numerical instability and overfitting.\n"
     ]
    },
    {
     "name": "stdout",
     "output_type": "stream",
     "text": [
      "+-------------------+------+---------+------+------------------+--------------------+------------------+-----------------+\n",
      "|               Date| Close|   Volume|row_id|         log_Close|            features|          log_pred|       prediction|\n",
      "+-------------------+------+---------+------+------------------+--------------------+------------------+-----------------+\n",
      "|2017-01-05 00:00:00|794.02|1335200.0|     2| 6.677108674444709|[794.02001953125,...| 6.731700196030625|838.5717910555757|\n",
      "|2017-01-11 00:00:00|807.91|1065900.0|     6| 6.694450632937915|[807.909973144531...| 6.742492187953101| 847.670660202503|\n",
      "|2017-01-13 00:00:00|807.88|1099200.0|     8|  6.69441353868417|[807.880004882812...|  6.74259515767009|847.7579491044639|\n",
      "|2017-01-23 00:00:00|819.31|1963600.0|    13| 6.708462519634765|[819.309997558593...| 6.751583232540753|855.4120071184622|\n",
      "|2017-01-31 00:00:00|796.79|2160600.0|    19|  6.68059112841436|[796.789978027343...|6.7348707623333155|841.2347578442793|\n",
      "|2017-02-06 00:00:00|801.34|1184500.0|    23| 6.686285359933136|[801.340026855468...| 6.738575048092932|844.3567105107763|\n",
      "|2017-02-14 00:00:00|820.45|1054700.0|    29| 6.709852985099618|[820.450012207031...| 6.753454039356998|857.0138156020089|\n",
      "|2017-02-23 00:00:00|831.33|1472800.0|    35|  6.72302684849797|[831.330017089843...|   6.7620876047168|864.4449327524636|\n",
      "|2017-03-09 00:00:00|838.68|1261500.0|    45| 6.731829218544006|[838.679992675781...| 6.768293785242109|869.8265163255147|\n",
      "|2017-03-10 00:00:00|843.25|1704000.0|    46| 6.737263473941759|       [843.25,46.0]| 6.771824649488331|872.9031841241874|\n",
      "|2017-03-13 00:00:00|845.54|1223600.0|    47|6.7399754505174965|[845.539978027343...|  6.77362528435099|874.4763799798363|\n",
      "|2017-03-15 00:00:00| 847.2|1381500.0|    49| 6.741936808695874|[847.200012207031...| 6.775010734028401|875.6887626520461|\n",
      "|2017-03-17 00:00:00|852.12|1712300.0|    51| 6.747727356251809|[852.119995117187...| 6.778870037480452| 879.074841065978|\n",
      "|2017-03-23 00:00:00|817.58|3487100.0|    55| 6.706348778213676|[817.580017089843...| 6.752910356569856|856.5479985819454|\n",
      "|2017-04-03 00:00:00|838.55|1671500.0|    62| 6.731674195220328|[838.549987792968...| 6.769263677256834|870.6705633689736|\n",
      "|2017-04-12 00:00:00|824.32| 900500.0|    69| 6.714558812921044|[824.320007324218...| 6.758905064943194|861.6981755223442|\n",
      "|2017-04-25 00:00:00| 872.3|1672000.0|    77| 6.771133387445098|[872.299987792968...| 6.795818132638808|894.1004532172016|\n",
      "|2017-05-26 00:00:00|971.47|1252000.0|   100| 6.878810358101086|[971.469970703125...|  6.87252022455062|965.3784730984204|\n",
      "|2017-06-14 00:00:00|950.76|1489700.0|   112| 6.857261675036539|[950.760009765625...| 6.857558474996478|951.0422371789056|\n",
      "|2017-06-20 00:00:00|950.63|1126000.0|   116| 6.857124927833689|[950.630004882812...| 6.857711242160077|951.1875363021273|\n",
      "+-------------------+------+---------+------+------------------+--------------------+------------------+-----------------+\n",
      "only showing top 20 rows\n",
      "\n"
     ]
    },
    {
     "data": {
      "text/plain": [
       "None"
      ]
     },
     "metadata": {},
     "output_type": "display_data"
    },
    {
     "name": "stdout",
     "output_type": "stream",
     "text": [
      "RMSE is 23.698553069371386\n",
      "R2 is 0.9879830930984685\n"
     ]
    }
   ],
   "source": [
    "predict_stock(google)"
   ]
  }
 ],
 "metadata": {
  "interpreter": {
   "hash": "4e1d9a8909477db77738c33245c29c7265277ef753467dede8cf3f814cde494e"
  },
  "kernelspec": {
   "display_name": "Python 3.10.4 64-bit",
   "language": "python",
   "name": "python3"
  },
  "language_info": {
   "codemirror_mode": {
    "name": "ipython",
    "version": 3
   },
   "file_extension": ".py",
   "mimetype": "text/x-python",
   "name": "python",
   "nbconvert_exporter": "python",
   "pygments_lexer": "ipython3",
   "version": "3.10.5"
  },
  "orig_nbformat": 4
 },
 "nbformat": 4,
 "nbformat_minor": 2
}
