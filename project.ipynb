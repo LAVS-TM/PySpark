{
 "cells": [
  {
   "cell_type": "markdown",
   "id": "6965398c",
   "metadata": {},
   "source": [
    "### Student Number : 2\n",
    "#### Alexandre Lemonnier (alexandre.lemonnier)\n",
    "#### Victor Simonin (victor.simonin)"
   ]
  },
  {
   "cell_type": "markdown",
   "id": "5ebaedc4",
   "metadata": {},
   "source": [
    "First, let's import our useful libraries"
   ]
  },
  {
   "cell_type": "code",
   "execution_count": 24,
   "id": "02201986",
   "metadata": {},
   "outputs": [],
   "source": [
    "from pyspark.sql import SparkSession\n",
    "from pyspark.sql.types import *\n",
    "import pandas as pd"
   ]
  },
  {
   "cell_type": "code",
   "execution_count": 25,
   "id": "fc7c4d9c",
   "metadata": {},
   "outputs": [],
   "source": [
    "spark_application_name = \"Projet_LAVS\"\n",
    "spark = (SparkSession.builder.appName(spark_application_name).getOrCreate())"
   ]
  },
  {
   "cell_type": "code",
   "execution_count": 26,
   "id": "f83c88b7",
   "metadata": {},
   "outputs": [],
   "source": [
    "Columns = [StructField(\"Date\",TimestampType()), StructField(\"High\",FloatType()), StructField(\"Low\",FloatType()), StructField(\"Open\",FloatType()), StructField(\"Close\",FloatType()), StructField(\"Volume\",IntegerType()), StructField(\"Adj Close\",FloatType()), StructField(\"company_name\",StringType())]\n",
    "Schema = StructType(Columns)\n",
    "\n",
    "def read_data(path):\n",
    "    return spark.read.schema(Schema).csv(path, header=True, sep=',')"
   ]
  },
  {
   "cell_type": "code",
   "execution_count": 29,
   "id": "faef3e69",
   "metadata": {},
   "outputs": [],
   "source": [
    "amazon = read_data('data/AMAZON.csv')\n",
    "apple = read_data('data/APPLE.csv')\n",
    "facebook = read_data('data/FACEBOOK.csv')\n",
    "google = read_data('data/GOOGLE.csv')\n",
    "microsoft = read_data('data/MICROSOFT.csv')\n",
    "tesla = read_data('data/TESLA.csv')\n",
    "zoom = read_data('data/ZOOM.csv')"
   ]
  },
  {
   "cell_type": "markdown",
   "id": "bef65457",
   "metadata": {},
   "source": [
    "Now let's do the exploration of our datasets :"
   ]
  },
  {
   "cell_type": "code",
   "execution_count": null,
   "id": "f9815897",
   "metadata": {},
   "outputs": [],
   "source": []
  },
  {
   "cell_type": "code",
   "execution_count": null,
   "id": "ee934f72",
   "metadata": {},
   "outputs": [],
   "source": []
  }
 ],
 "metadata": {
  "kernelspec": {
   "display_name": "Python 3 (ipykernel)",
   "language": "python",
   "name": "python3"
  },
  "language_info": {
   "codemirror_mode": {
    "name": "ipython",
    "version": 3
   },
   "file_extension": ".py",
   "mimetype": "text/x-python",
   "name": "python",
   "nbconvert_exporter": "python",
   "pygments_lexer": "ipython3",
   "version": "3.10.4"
  }
 },
 "nbformat": 4,
 "nbformat_minor": 5
}
